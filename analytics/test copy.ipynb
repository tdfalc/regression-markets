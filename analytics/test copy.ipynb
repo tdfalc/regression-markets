{
 "cells": [
  {
   "cell_type": "code",
   "execution_count": 1,
   "metadata": {},
   "outputs": [],
   "source": [
    "import numpy as np\n",
    "from sklearn.linear_model import LinearRegression\n",
    "import sys\n",
    "sys.path.append(\"../\")\n",
    "from regression_markets.market.data import BatchData\n",
    "from regression_markets.market.task import MaximumLikelihoodLinearRegression, BayesianLinearRegression\n",
    "\n",
    "\n",
    "from regression_markets.market.policy import (\n",
    "    KldCfModShapleyPolicy,\n",
    "    KldContributionModShapleyPolicy,\n",
    "    NllShapleyPolicy,\n",
    ")\n",
    "from regression_markets.market.mechanism import BatchMarket"
   ]
  },
  {
   "cell_type": "code",
   "execution_count": null,
   "metadata": {},
   "outputs": [],
   "source": []
  },
  {
   "cell_type": "code",
   "execution_count": 16,
   "metadata": {},
   "outputs": [],
   "source": [
    "noise_variance =  0.3\n",
    "N=100000\n",
    "q = np.random.normal(0, 1, size=N)\n",
    "z0 = np.random.normal(0, 1, size=N)\n",
    "x1 = z0 + np.random.normal(0, 0.3, size=N)\n",
    "x2 = z0 + np.random.normal(0, 0.3, size=N) \n",
    "x2_r1 = x2 + np.random.normal(0, 0.3, size=N)  \n",
    "x2_rK = x2 + np.random.normal(0, 0.3, size=N)  \n",
    "ones = np.ones(N).reshape(-1, 1)\n",
    "\n",
    "\n",
    "y = 0.5 * q + 0.9 * z0 + np.random.normal(0, noise_variance**0.5, size=N)\n",
    "\n",
    "# lr = LinearRegression(fit_intercept=False)\n",
    "all = np.vstack([\n",
    "    q,\n",
    "    x1,\n",
    "    x2,\n",
    "    x2_r1,\n",
    "    #x2_rK,\n",
    "]).T\n",
    "task = MaximumLikelihoodLinearRegression(noise_variance=noise_variance)\n",
    "\n",
    "# from sklearn.preprocessing import PolynomialFeatures\n",
    "# poly = PolynomialFeatures(1, include_bias=False)\n",
    "# X_poly = poly.fit_transform(all)\n",
    "# lr.fit(X_poly, y)\n",
    "# lr.coef_.round(2)"
   ]
  },
  {
   "cell_type": "code",
   "execution_count": 69,
   "metadata": {},
   "outputs": [],
   "source": [
    "\n",
    "market_data = BatchData(ones, q.reshape(-1, 1), all[:, 1:], y.reshape(-1, 1), polynomial_degree=5)\n",
    "market = BatchMarket(market_data, task, train_payment=1, observational=False\n",
    ")"
   ]
  },
  {
   "cell_type": "code",
   "execution_count": 70,
   "metadata": {},
   "outputs": [],
   "source": [
    "policy = NllShapleyPolicy(\n",
    "            active_agents=market.market_data.active_agents,\n",
    "            baseline_agents=market.market_data.baseline_agents,\n",
    "            polynomial_degree=market.market_data.degree,\n",
    "            regression_task=market.regression_task,\n",
    "            observational=market.observational,\n",
    "        )"
   ]
  },
  {
   "cell_type": "code",
   "execution_count": 71,
   "metadata": {},
   "outputs": [],
   "source": [
    "output = market.run(NllShapleyPolicy)"
   ]
  },
  {
   "cell_type": "code",
   "execution_count": 72,
   "metadata": {},
   "outputs": [
    {
     "data": {
      "text/plain": [
       "array([-0.14745073, -3.15382471, 10.02754572, -5.00725236])"
      ]
     },
     "execution_count": 72,
     "metadata": {},
     "output_type": "execute_result"
    }
   ],
   "source": [
    "output[\"train\"][\"contributions\"]"
   ]
  },
  {
   "cell_type": "code",
   "execution_count": 73,
   "metadata": {},
   "outputs": [
    {
     "data": {
      "text/plain": [
       "array([-0.14745073, -3.15382471, 10.02754572, -5.00725236])"
      ]
     },
     "execution_count": 73,
     "metadata": {},
     "output_type": "execute_result"
    }
   ],
   "source": [
    "output[\"train\"][\"contributions\"]"
   ]
  },
  {
   "cell_type": "code",
   "execution_count": 74,
   "metadata": {},
   "outputs": [
    {
     "data": {
      "text/plain": [
       "array([-0.14745073, -3.15382471, 10.02754572, -5.00725236])"
      ]
     },
     "execution_count": 74,
     "metadata": {},
     "output_type": "execute_result"
    }
   ],
   "source": [
    "output[\"train\"][\"contributions\"]"
   ]
  },
  {
   "cell_type": "code",
   "execution_count": null,
   "metadata": {},
   "outputs": [],
   "source": []
  },
  {
   "cell_type": "code",
   "execution_count": null,
   "metadata": {},
   "outputs": [],
   "source": []
  },
  {
   "cell_type": "code",
   "execution_count": null,
   "metadata": {},
   "outputs": [],
   "source": []
  }
 ],
 "metadata": {
  "kernelspec": {
   "display_name": "tdfalc",
   "language": "python",
   "name": "python3"
  },
  "language_info": {
   "codemirror_mode": {
    "name": "ipython",
    "version": 3
   },
   "file_extension": ".py",
   "mimetype": "text/x-python",
   "name": "python",
   "nbconvert_exporter": "python",
   "pygments_lexer": "ipython3",
   "version": "3.9.19"
  }
 },
 "nbformat": 4,
 "nbformat_minor": 2
}
